{
  "cells": [
    {
      "cell_type": "markdown",
      "metadata": {
        "id": "OD2tG3lxnZE_"
      },
      "source": [
        "# Prepare"
      ]
    },
    {
      "cell_type": "code",
      "execution_count": 38,
      "metadata": {
        "colab": {
          "base_uri": "https://localhost:8080/"
        },
        "id": "DvIAgblZlVRh",
        "outputId": "c1f39c3b-c87a-4fc5-f26f-91b54f5b8d0a"
      },
      "outputs": [
        {
          "name": "stdout",
          "output_type": "stream",
          "text": [
            "Requirement already satisfied: rdkit-pypi in /home/toscan/.pyenv/versions/3.10.0/lib/python3.10/site-packages (2021.9.2.1)\n",
            "Requirement already satisfied: numpy>=1.19 in /home/toscan/.local/lib/python3.10/site-packages (from rdkit-pypi) (1.21.4)\n"
          ]
        }
      ],
      "source": [
        "! pip install rdkit-pypi"
      ]
    },
    {
      "cell_type": "code",
      "execution_count": 6,
      "metadata": {
        "colab": {
          "base_uri": "https://localhost:8080/"
        },
        "id": "--gBpeyamSgW",
        "outputId": "0f79bad4-5f02-47a8-b3ea-83bf347dcb5c"
      },
      "outputs": [
        {
          "name": "stdout",
          "output_type": "stream",
          "text": [
            "--2021-12-08 10:31:50--  http://nicolatoscan.altervista.org/test_smiles.csv\n",
            "Resolving nicolatoscan.altervista.org (nicolatoscan.altervista.org)... 136.243.138.245\n",
            "Connecting to nicolatoscan.altervista.org (nicolatoscan.altervista.org)|136.243.138.245|:80... connected.\n",
            "HTTP request sent, awaiting response... 200 OK\n",
            "Length: 2492432 (2.4M) [text/csv]\n",
            "Saving to: ‘test_smiles.csv.1’\n",
            "\n",
            "test_smiles.csv.1   100%[===================>]   2.38M  5.04MB/s    in 0.5s    \n",
            "\n",
            "2021-12-08 10:31:51 (5.04 MB/s) - ‘test_smiles.csv.1’ saved [2492432/2492432]\n",
            "\n",
            "--2021-12-08 10:31:51--  http://nicolatoscan.altervista.org/training_smiles.csv\n",
            "Resolving nicolatoscan.altervista.org (nicolatoscan.altervista.org)... 136.243.138.245\n",
            "Connecting to nicolatoscan.altervista.org (nicolatoscan.altervista.org)|136.243.138.245|:80... connected.\n",
            "HTTP request sent, awaiting response... 200 OK\n",
            "Length: 7976131 (7.6M) [text/csv]\n",
            "Saving to: ‘training_smiles.csv’\n",
            "\n",
            "training_smiles.csv 100%[===================>]   7.61M  4.91MB/s    in 1.5s    \n",
            "\n",
            "2021-12-08 10:31:52 (4.91 MB/s) - ‘training_smiles.csv’ saved [7976131/7976131]\n",
            "\n"
          ]
        }
      ],
      "source": [
        "! wget http://nicolatoscan.altervista.org/test_smiles.csv\n",
        "! wget http://nicolatoscan.altervista.org/training_smiles.csv"
      ]
    },
    {
      "cell_type": "code",
      "execution_count": 54,
      "metadata": {
        "id": "wAdymy2Mk2Q9"
      },
      "outputs": [],
      "source": [
        "import json\n",
        "from rdkit import Chem\n",
        "import rdkit.Chem.rdMolDescriptors as d\n",
        "import rdkit.Chem.Fragments as f\n",
        "import rdkit.Chem.Lipinski as lp\n",
        "import pandas as pd\n",
        "import numpy as np\n",
        "from tqdm import tqdm\n",
        "from sklearn.decomposition import PCA\n",
        "from rdkit.Chem import AllChem\n",
        "from sklearn.ensemble import RandomForestClassifier\n",
        "from imblearn.ensemble import BalancedRandomForestClassifier\n",
        "from sklearn.model_selection import cross_val_score, cross_validate, train_test_split, RepeatedStratifiedKFold\n",
        "from sklearn.metrics import recall_score, roc_auc_score\n",
        "from xgboost import XGBRegressor, XGBClassifier\n",
        "from sklearn.metrics import confusion_matrix"
      ]
    },
    {
      "cell_type": "markdown",
      "metadata": {
        "id": "EuJJbTjmlLQl"
      },
      "source": [
        "# Load data"
      ]
    },
    {
      "cell_type": "code",
      "execution_count": 40,
      "metadata": {
        "id": "ZkeCozq1lFu8"
      },
      "outputs": [],
      "source": [
        "\n",
        "def loadFeatures():\n",
        "    df = pd.read_csv(\"training_smiles.csv\")\n",
        "    print(\"Smile ...\")\n",
        "    df['mol'] = df['SMILES'].apply(lambda x: Chem.MolFromSmiles(x))\n",
        "\n",
        "    featuresFn = [\n",
        "        ('FractionCSP3', (lambda x: lp.FractionCSP3(x))),\n",
        "        ('HeavyAtomCount', (lambda x: lp.HeavyAtomCount(x))),\n",
        "        ('NHOHCount', (lambda x: lp.NHOHCount(x))),\n",
        "        ('NOCount', (lambda x: lp.NOCount(x))),\n",
        "        ('NumAliphaticCarbocycles', (lambda x: lp.NumAliphaticCarbocycles(x))),\n",
        "        ('NumAliphaticHeterocycles', (lambda x: lp.NumAliphaticHeterocycles(x))),\n",
        "        ('NumAliphaticRings', (lambda x: lp.NumAliphaticRings(x))),\n",
        "        ('NumAromaticCarbocycles', (lambda x: lp.NumAromaticCarbocycles(x))),\n",
        "        ('NumAromaticHeterocycles', (lambda x: lp.NumAromaticHeterocycles(x))),\n",
        "        ('NumAromaticRings', (lambda x: lp.NumAromaticRings(x))),\n",
        "        ('NumHAcceptors', (lambda x: lp.NumHAcceptors(x))),\n",
        "        ('NumHDonors', (lambda x: lp.NumHDonors(x))),\n",
        "        ('NumHeteroatoms', (lambda x: lp.NumHeteroatoms(x))),\n",
        "        ('NumRotatableBonds', (lambda x: lp.NumRotatableBonds(x))),\n",
        "        ('NumSaturatedCarbocycles', (lambda x: lp.NumSaturatedCarbocycles(x))),\n",
        "        ('NumSaturatedHeterocycles', (lambda x: lp.NumSaturatedHeterocycles(x))),\n",
        "        ('NumSaturatedRings', (lambda x: lp.NumSaturatedRings(x))),\n",
        "        ('RingCount', (lambda x: lp.RingCount(x))),\n",
        "\n",
        "        ('fr_Al_COO', (lambda x: f.fr_Al_COO(x) )),\n",
        "        ('fr_Al_OH', (lambda x: f.fr_Al_OH(x) )),\n",
        "        ('fr_Al_OH_noTert', (lambda x: f.fr_Al_OH_noTert(x) )),\n",
        "        ('fr_ArN', (lambda x: f.fr_ArN(x) )),\n",
        "        ('fr_Ar_COO', (lambda x: f.fr_Ar_COO(x) )),\n",
        "        ('fr_Ar_N', (lambda x: f.fr_Ar_N(x) )),\n",
        "        ('fr_Ar_NH', (lambda x: f.fr_Ar_NH(x) )),\n",
        "        ('fr_Ar_OH', (lambda x: f.fr_Ar_OH(x) )),\n",
        "        ('fr_COO', (lambda x: f.fr_COO(x) )),\n",
        "        ('fr_COO2', (lambda x: f.fr_COO2(x) )),\n",
        "        ('fr_C_O', (lambda x: f.fr_C_O(x) )),\n",
        "        ('fr_C_O_noCOO', (lambda x: f.fr_C_O_noCOO(x) )),\n",
        "        ('fr_C_S', (lambda x: f.fr_C_S(x) )),\n",
        "        ('fr_HOCCN', (lambda x: f.fr_HOCCN(x) )),\n",
        "        ('fr_Imine', (lambda x: f.fr_Imine(x) )),\n",
        "        ('fr_NH0', (lambda x: f.fr_NH0(x) )),\n",
        "        ('fr_NH1', (lambda x: f.fr_NH1(x) )),\n",
        "        ('fr_NH2', (lambda x: f.fr_NH2(x) )),\n",
        "        ('fr_N_O', (lambda x: f.fr_N_O(x) )),\n",
        "        ('fr_Ndealkylation1', (lambda x: f.fr_Ndealkylation1(x) )),\n",
        "        ('fr_Ndealkylation2', (lambda x: f.fr_Ndealkylation2(x) )),\n",
        "        ('fr_Nhpyrrole', (lambda x: f.fr_Nhpyrrole(x) )),\n",
        "        ('fr_SH', (lambda x: f.fr_SH(x) )),\n",
        "        ('fr_aldehyde', (lambda x: f.fr_aldehyde(x) )),\n",
        "        ('fr_alkyl_carbamate', (lambda x: f.fr_alkyl_carbamate(x) )),\n",
        "        ('fr_alkyl_halide', (lambda x: f.fr_alkyl_halide(x) )),\n",
        "        ('fr_allylic_oxid', (lambda x: f.fr_allylic_oxid(x) )),\n",
        "        ('fr_amide', (lambda x: f.fr_amide(x) )),\n",
        "        ('fr_amidine', (lambda x: f.fr_amidine(x) )),\n",
        "        ('fr_aniline', (lambda x: f.fr_aniline(x) )),\n",
        "        ('fr_aryl_methyl', (lambda x: f.fr_aryl_methyl(x) )),\n",
        "        ('fr_azide', (lambda x: f.fr_azide(x) )),\n",
        "        ('fr_azo', (lambda x: f.fr_azo(x) )),\n",
        "        ('fr_barbitur', (lambda x: f.fr_barbitur(x) )),\n",
        "        ('fr_benzene', (lambda x: f.fr_benzene(x) )),\n",
        "        ('fr_benzodiazepine', (lambda x: f.fr_benzodiazepine(x) )),\n",
        "        ('fr_bicyclic', (lambda x: f.fr_bicyclic(x) )),\n",
        "        ('fr_diazo', (lambda x: f.fr_diazo(x) )),\n",
        "        ('fr_dihydropyridine', (lambda x: f.fr_dihydropyridine(x) )),\n",
        "        ('fr_epoxide', (lambda x: f.fr_epoxide(x) )),\n",
        "        ('fr_ester', (lambda x: f.fr_ester(x) )),\n",
        "        ('fr_ether', (lambda x: f.fr_ether(x) )),\n",
        "        ('fr_furan', (lambda x: f.fr_furan(x) )),\n",
        "        ('fr_guanido', (lambda x: f.fr_guanido(x) )),\n",
        "        ('fr_halogen', (lambda x: f.fr_halogen(x) )),\n",
        "        ('fr_hdrzine', (lambda x: f.fr_hdrzine(x) )),\n",
        "        ('fr_hdrzone', (lambda x: f.fr_hdrzone(x) )),\n",
        "        ('fr_imidazole', (lambda x: f.fr_imidazole(x) )),\n",
        "        ('fr_imide', (lambda x: f.fr_imide(x) )),\n",
        "        ('fr_isocyan', (lambda x: f.fr_isocyan(x) )),\n",
        "        ('fr_isothiocyan', (lambda x: f.fr_isothiocyan(x) )),\n",
        "        ('fr_ketone', (lambda x: f.fr_ketone(x) )),\n",
        "        ('fr_ketone_Topliss', (lambda x: f.fr_ketone_Topliss(x) )),\n",
        "        ('fr_lactam', (lambda x: f.fr_lactam(x) )),\n",
        "        ('fr_lactone', (lambda x: f.fr_lactone(x) )),\n",
        "        ('fr_methoxy', (lambda x: f.fr_methoxy(x) )),\n",
        "        ('fr_morpholine', (lambda x: f.fr_morpholine(x) )),\n",
        "        ('fr_nitrile', (lambda x: f.fr_nitrile(x) )),\n",
        "        ('fr_nitro', (lambda x: f.fr_nitro(x) )),\n",
        "        ('fr_nitro_arom', (lambda x: f.fr_nitro_arom(x) )),\n",
        "        ('fr_nitro_arom_nonortho', (lambda x: f.fr_nitro_arom_nonortho(x) )),\n",
        "        ('fr_nitroso', (lambda x: f.fr_nitroso(x) )),\n",
        "        ('fr_oxazole', (lambda x: f.fr_oxazole(x) )),\n",
        "        ('fr_oxime', (lambda x: f.fr_oxime(x) )),\n",
        "        ('fr_para_hydroxylation', (lambda x: f.fr_para_hydroxylation(x) )),\n",
        "        ('fr_phenol', (lambda x: f.fr_phenol(x) )),\n",
        "        ('fr_phenol_noOrthoHbond', (lambda x: f.fr_phenol_noOrthoHbond(x) )),\n",
        "        ('fr_phos_acid', (lambda x: f.fr_phos_acid(x) )),\n",
        "        ('fr_phos_ester', (lambda x: f.fr_phos_ester(x) )),\n",
        "        ('fr_piperdine', (lambda x: f.fr_piperdine(x) )),\n",
        "        ('fr_piperzine', (lambda x: f.fr_piperzine(x) )),\n",
        "        ('fr_priamide', (lambda x: f.fr_priamide(x) )),\n",
        "        ('fr_prisulfonamd', (lambda x: f.fr_prisulfonamd(x) )),\n",
        "        ('fr_pyridine', (lambda x: f.fr_pyridine(x) )),\n",
        "        ('fr_quatN', (lambda x: f.fr_quatN(x) )),\n",
        "        ('fr_sulfide', (lambda x: f.fr_sulfide(x) )),\n",
        "        ('fr_sulfonamd', (lambda x: f.fr_sulfonamd(x) )),\n",
        "        ('fr_sulfone', (lambda x: f.fr_sulfone(x) )),\n",
        "        ('fr_term_acetylene', (lambda x: f.fr_term_acetylene(x) )),\n",
        "        ('fr_tetrazole', (lambda x: f.fr_tetrazole(x) )),\n",
        "        ('fr_thiazole', (lambda x: f.fr_thiazole(x) )),\n",
        "        ('fr_thiocyan', (lambda x: f.fr_thiocyan(x) )),\n",
        "        ('fr_thiophene', (lambda x: f.fr_thiophene(x) )),\n",
        "        ('fr_unbrch_alkane', (lambda x: f.fr_unbrch_alkane(x) )),\n",
        "        ('fr_urea', (lambda x: f.fr_urea(x) ))\n",
        "    ]\n",
        "\n",
        "    print(\"Morgan ...\")\n",
        "    morganFeatures = df['mol'].apply(lambda x: list(AllChem.GetMorganFingerprintAsBitVect(x, 2,nBits=124)))\n",
        "    newFeatures = pd.DataFrame(pd.DataFrame(morganFeatures)['mol'].to_list())\n",
        "\n",
        "    print(\"Features ...\")\n",
        "    for colName, fn in tqdm(featuresFn):\n",
        "        try:\n",
        "            newFeatures[colName] = df['mol'].apply(fn)\n",
        "        except:\n",
        "            print(\"Error in feature: \", colName)\n",
        "    newFeatures = newFeatures.copy()\n",
        "    return newFeatures, df['ACTIVE']\n",
        "\n",
        "def myPCA(newFeatures, labels, keptVar = 0.8):\n",
        "    print(\"PCA ...\")\n",
        "    pca = PCA(keptVar)\n",
        "    # dfFeatures = df.drop(['mol', 'INDEX', 'SMILES', 'ACTIVE'], axis=1)\n",
        "    pca.fit(newFeatures)\n",
        "    pcaDf = pd.DataFrame(pca.transform(newFeatures))\n",
        "    pcaDf['labels'] = labels\n",
        "\n",
        "    return pcaDf\n"
      ]
    },
    {
      "cell_type": "code",
      "execution_count": 41,
      "metadata": {
        "colab": {
          "base_uri": "https://localhost:8080/"
        },
        "id": "ZV3D7S_DqIrx",
        "outputId": "07569dd9-a84b-4a27-bc71-855bc8c7fc9c"
      },
      "outputs": [
        {
          "name": "stdout",
          "output_type": "stream",
          "text": [
            "Smile ...\n"
          ]
        },
        {
          "name": "stderr",
          "output_type": "stream",
          "text": [
            "RDKit WARNING: [18:51:46] WARNING: not removing hydrogen atom without neighbors\n",
            "[18:51:46] WARNING: not removing hydrogen atom without neighbors\n",
            "RDKit WARNING: [18:51:48] WARNING: not removing hydrogen atom without neighbors\n",
            "[18:51:48] WARNING: not removing hydrogen atom without neighbors\n",
            "RDKit WARNING: [18:52:08] WARNING: not removing hydrogen atom without neighbors\n",
            "[18:52:08] WARNING: not removing hydrogen atom without neighbors\n"
          ]
        },
        {
          "name": "stdout",
          "output_type": "stream",
          "text": [
            "Morgan ...\n",
            "Features ...\n"
          ]
        },
        {
          "name": "stderr",
          "output_type": "stream",
          "text": [
            " 96%|█████████▌| 99/103 [02:26<00:04,  1.06s/it]/tmp/ipykernel_60386/3983939679.py:120: PerformanceWarning: DataFrame is highly fragmented.  This is usually the result of calling `frame.insert` many times, which has poor performance.  Consider joining all columns at once using pd.concat(axis=1) instead.  To get a de-fragmented frame, use `newframe = frame.copy()`\n",
            "  newFeatures[colName] = df['mol'].apply(fn)\n",
            "100%|██████████| 103/103 [02:30<00:00,  1.46s/it]\n"
          ]
        }
      ],
      "source": [
        "dfAllFeatures, labels = loadFeatures()"
      ]
    },
    {
      "cell_type": "code",
      "execution_count": 64,
      "metadata": {},
      "outputs": [],
      "source": [
        "scoring = {\n",
        "    'auc': 'roc_auc',\n",
        "    'recall': 'recall'\n",
        "}\n",
        "modelsRes = []\n",
        "def evalModel(model, name='NA'):\n",
        "    print(\"Model: \", name)\n",
        "\n",
        "    print(\"Evaluation ...\")\n",
        "    cv = RepeatedStratifiedKFold(n_splits=10, n_repeats=3, random_state=1)\n",
        "    scores = cross_validate(model, Xtr, Ytr, scoring=scoring, cv=cv, n_jobs=-1)\n",
        "\n",
        "    aucs = scores['test_auc']\n",
        "    recalls = scores['test_recall']\n",
        "    print(f'Mean AUC: {np.mean(aucs):.3f}')\n",
        "    print(f'Mean AUC: {np.mean(recalls):.3f}')\n",
        "\n",
        "    print(\"Validation ...\")\n",
        "    model.fit(Xtr, Ytr)\n",
        "    Ypre = model.predict(Xval)\n",
        "    aucVal = roc_auc_score(Yval, Ypre)\n",
        "    recVall = recall_score(Yval, Ypre)\n",
        "    tn, fp, fn, tp = confusion_matrix([0, 1, 0, 1], [1, 1, 1, 0]).ravel()\n",
        "\n",
        "    print(f'AUC: {aucVal:.3f}')\n",
        "    print(f'AUC: {recVall:.3f}')\n",
        "\n",
        "    feats = [name, keptVar, np.mean(aucs), np.mean(recalls), ','.join(map(str, aucs)), ','.join(map(str, recalls)), aucVal, recVall, tn, fp, fn, tp]\n",
        "    modelsRes.append(feats)\n",
        "    with open('modelsRes.tsv', 'a') as f:\n",
        "        f.write('\\t'.join(map(str, feats)) + '\\n')\n",
        "    print('---------------------')"
      ]
    },
    {
      "cell_type": "markdown",
      "metadata": {
        "id": "xYlt57XfoH9X"
      },
      "source": [
        "# Random forest"
      ]
    },
    {
      "cell_type": "code",
      "execution_count": 59,
      "metadata": {},
      "outputs": [],
      "source": [
        "keptVar = 0.8"
      ]
    },
    {
      "cell_type": "code",
      "execution_count": 60,
      "metadata": {},
      "outputs": [
        {
          "name": "stdout",
          "output_type": "stream",
          "text": [
            "PCA ...\n"
          ]
        },
        {
          "name": "stderr",
          "output_type": "stream",
          "text": [
            "/home/toscan/.pyenv/versions/3.10.0/lib/python3.10/site-packages/sklearn/utils/validation.py:1675: FutureWarning: Feature names only support names that are all strings. Got feature names with dtypes: ['int', 'str']. An error will be raised in 1.2.\n",
            "  warnings.warn(\n",
            "/home/toscan/.pyenv/versions/3.10.0/lib/python3.10/site-packages/sklearn/utils/validation.py:1675: FutureWarning: Feature names only support names that are all strings. Got feature names with dtypes: ['int', 'str']. An error will be raised in 1.2.\n",
            "  warnings.warn(\n"
          ]
        }
      ],
      "source": [
        "df = myPCA(dfAllFeatures, labels, keptVar=keptVar)\n",
        "Xo = df.drop(['labels'], axis=1)\n",
        "Y = df['labels']\n",
        "X = (Xo - Xo.min()) / (Xo.max() - Xo.min())\n",
        "Xtr, Xval, Ytr, Yval = train_test_split(X, Y, test_size=0.3, random_state=42)\n",
        "Wtr = (Ytr == 0).sum() // (Ytr == 1).sum()\n"
      ]
    },
    {
      "cell_type": "code",
      "execution_count": 65,
      "metadata": {},
      "outputs": [
        {
          "name": "stdout",
          "output_type": "stream",
          "text": [
            "Model:  RandomForestClassifier-2\n",
            "Evaluation ...\n",
            "Mean AUC: 0.519\n",
            "Mean AUC: 0.005\n",
            "Validation ...\n",
            "AUC: 0.504\n",
            "AUC: 0.008\n",
            "---------------------\n",
            "Model:  RandomForestClassifier-2-balanced\n",
            "Evaluation ...\n",
            "Mean AUC: 0.522\n",
            "Mean AUC: 0.009\n",
            "Validation ...\n",
            "AUC: 0.512\n",
            "AUC: 0.023\n",
            "---------------------\n",
            "Model:  RandomForestClassifier-2-balanced_subsample\n",
            "Evaluation ...\n"
          ]
        }
      ],
      "source": [
        "n = 2\n",
        "models = [\n",
        "    (f'RandomForestClassifier-{n}',                         RandomForestClassifier(         n_estimators=n                                      )),\n",
        "    (f'RandomForestClassifier-{n}-balanced',                RandomForestClassifier(         n_estimators=n, class_weight='balanced'             )),\n",
        "    (f'RandomForestClassifier-{n}-balanced_subsample',      RandomForestClassifier(         n_estimators=n, class_weight='balanced_subsample'   )),\n",
        "    (f'RandomForestClassifier-{n}-balanced_subsample',      RandomForestClassifier(         n_estimators=n, class_weight='balanced_subsample'   )),\n",
        "    (f'BalancedRandomForestClassifier-{n}',                 BalancedRandomForestClassifier( n_estimators=n                                      )),\n",
        "    (f'XGBClassifier-{n}',                                  XGBClassifier(                  n_estimators=n, scale_pos_weight=Wtr                )),\n",
        "]\n",
        "for name, model in models:\n",
        "    evalModel(model, name)"
      ]
    },
    {
      "cell_type": "code",
      "execution_count": null,
      "metadata": {},
      "outputs": [],
      "source": []
    }
  ],
  "metadata": {
    "colab": {
      "collapsed_sections": [
        "EuJJbTjmlLQl"
      ],
      "name": "Lab4.ipynb",
      "provenance": []
    },
    "kernelspec": {
      "display_name": "Python 3",
      "name": "python3"
    },
    "language_info": {
      "codemirror_mode": {
        "name": "ipython",
        "version": 3
      },
      "file_extension": ".py",
      "mimetype": "text/x-python",
      "name": "python",
      "nbconvert_exporter": "python",
      "pygments_lexer": "ipython3",
      "version": "3.10.0"
    }
  },
  "nbformat": 4,
  "nbformat_minor": 0
}
