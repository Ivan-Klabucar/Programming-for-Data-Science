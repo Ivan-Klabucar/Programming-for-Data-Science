{
 "cells": [
  {
   "cell_type": "markdown",
   "metadata": {},
   "source": [
    "# ID2214/FID3214 Assignment 2 Group no. [enter]\n",
    "### Project members: \n",
    "[Enter Name, email]\n",
    "[Enter Name, email]\n",
    "[Enter Name, email]\n",
    "[Enter Name, email]\n",
    "\n",
    "### Declaration:\n",
    "By submitting this solution, it is hereby declared that all individuals listed above have contributed to the solution, either with code that appear in the final solution below, or with code that has been evaluated and compared to the final solution, but for some reason has been excluded. It is also declared that all project members fully understand all parts of the final solution and can explain it upon request.\n",
    "\n",
    "It is furthermore declared that the code below is a contribution by the project members only, and specifically that no part of the solution has been copied from any other source (except for lecture slides at the course ID2214/FID3214) and no part of the solution has been provided by someone not listed as project member above.\n",
    "\n",
    "It is furthermore declared that it has been understood that no other library/package than the Python 3 standard library, NumPy, pandas and time may be used in the solution for this assignment.\n",
    "\n",
    "### Instructions\n",
    "All parts of the assignment starting with number 1 below are mandatory. Satisfactory solutions\n",
    "will give 1 point (in total). If they in addition are good (all parts work more or less \n",
    "as they should), completed on time (submitted before the deadline in Canvas) and according\n",
    "to the instructions, together with satisfactory solutions of all parts of the assignment starting \n",
    "with number 2 below, then the assignment will receive 2 points (in total).\n",
    "\n",
    "Note that you do not have to develop the code directly within the notebook\n",
    "but may instead copy the comments and test cases to a more convenient development environment\n",
    "and when everything works as expected, you may paste your functions into this\n",
    "notebook, do a final testing (all cells should succeed) and submit the whole notebook \n",
    "(a single file) in Canvas (do not forget to fill in your group number and names above)."
   ]
  },
  {
   "cell_type": "markdown",
   "metadata": {},
   "source": [
    "## Load NumPy, pandas and time"
   ]
  },
  {
   "cell_type": "code",
   "execution_count": 1,
   "metadata": {},
   "outputs": [],
   "source": [
    "import numpy as np\n",
    "import pandas as pd\n",
    "import time"
   ]
  },
  {
   "cell_type": "markdown",
   "metadata": {},
   "source": [
    "## Reused functions from Assignment 1"
   ]
  },
  {
   "cell_type": "code",
   "execution_count": 2,
   "metadata": {},
   "outputs": [],
   "source": [
    "# Copy and paste functions from Assignment 1 here that you need for this assignment\n",
    "\n"
   ]
  },
  {
   "cell_type": "markdown",
   "metadata": {},
   "source": [
    "## 1. Define the class kNN"
   ]
  },
  {
   "cell_type": "code",
   "execution_count": 3,
   "metadata": {},
   "outputs": [],
   "source": [
    "# Define the class kNN with three functions __init__, fit and predict (after the comments):\n",
    "#\n",
    "# Input to __init__: \n",
    "# self - the object itself\n",
    "#\n",
    "# Output from __init__:\n",
    "# <nothing>\n",
    "# \n",
    "# This function does not return anything but just initializes the following attributes of the object (self) to None:\n",
    "# column_filter, imputation, normalization, one_hot, labels, training_labels, training_data, training_time\n",
    "#\n",
    "# Input to fit:\n",
    "# self              - the object itself\n",
    "# df                - a dataframe (where the column names \"CLASS\" and \"ID\" have special meaning)\n",
    "# normalizationtype - \"minmax\" (default) or \"zscore\"\n",
    "#\n",
    "# Output from fit:\n",
    "# <nothing>\n",
    "#\n",
    "# The result of applying this function should be:\n",
    "#\n",
    "# self.column_filter   - a column filter (see Assignment 1) from df\n",
    "# self.imputation      - an imputation mapping (see Assignment 1) from df\n",
    "# self.normalization   - a normalization mapping (see Assignment 1), using normalizationtype from the imputed df\n",
    "# self.one_hot         - a one-hot mapping (see Assignment 1)\n",
    "# self.training_labels - a pandas series corresponding to the \"CLASS\" column, set to be of type \"category\" \n",
    "# self.labels          - a list of the categories (class labels) of the previous series\n",
    "# self.training_data   - the values (an ndarray) of the transformed dataframe, i.e., after employing imputation, \n",
    "#                        normalization, and possibly one-hot encoding, and also after removing the \"CLASS\" and \"ID\" columns\n",
    "#\n",
    "# Note that the function does not return anything but just assigns values to the attributes of the object.\n",
    "#\n",
    "# Input to predict:\n",
    "# self - the object itself\n",
    "# df   - a dataframe\n",
    "# k    - an integer >= 1 (default = 5)\n",
    "# \n",
    "# Output from predict:\n",
    "# predictions - a dataframe with class labels as column names and the rows corresponding to\n",
    "#               predictions with estimated class probabilities for each row in df, where the class probabilities\n",
    "#               are estimated by the relative class frequencies in the set of class labels from the k nearest \n",
    "#               (with respect to Euclidean distance) neighbors in training_data\n",
    "#\n",
    "# Hint 1: Drop any \"CLASS\" and \"ID\" columns first and then apply column filtering, imputation, normalization and one-hot\n",
    "#\n",
    "# Hint 2: Get the numerical values (as an ndarray) from the resulting dataframe and iterate over the rows \n",
    "#         calling some sub-function, e.g., get_nearest_neighbor_predictions(x_test,k), which for a test row\n",
    "#         (numerical input feature values) finds the k nearest neighbors and calculate the class probabilities.\n",
    "#\n",
    "# Hint 3: This sub-function may first find the distances to all training instances, e.g., pairs consisting of\n",
    "#         training instance index and distance, and then sort them according to distance, and then (using the indexes\n",
    "#         of the k closest instances) find the corresponding labels and calculate the relative class frequencies\n",
    "\n"
   ]
  },
  {
   "cell_type": "code",
   "execution_count": 4,
   "metadata": {
    "scrolled": true
   },
   "outputs": [
    {
     "name": "stdout",
     "output_type": "stream",
     "text": [
      "Training time: 0.01 s.\n",
      "Testing time (k=1): 0.14 s.\n",
      "Testing time (k=3): 0.15 s.\n",
      "Testing time (k=5): 0.15 s.\n",
      "Testing time (k=7): 0.15 s.\n",
      "Testing time (k=9): 0.15 s.\n",
      "\n"
     ]
    },
    {
     "data": {
      "text/plain": [
       "'results'"
      ]
     },
     "metadata": {},
     "output_type": "display_data"
    },
    {
     "data": {
      "text/html": [
       "<div>\n",
       "<style scoped>\n",
       "    .dataframe tbody tr th:only-of-type {\n",
       "        vertical-align: middle;\n",
       "    }\n",
       "\n",
       "    .dataframe tbody tr th {\n",
       "        vertical-align: top;\n",
       "    }\n",
       "\n",
       "    .dataframe thead th {\n",
       "        text-align: right;\n",
       "    }\n",
       "</style>\n",
       "<table border=\"1\" class=\"dataframe\">\n",
       "  <thead>\n",
       "    <tr style=\"text-align: right;\">\n",
       "      <th></th>\n",
       "      <th>Accuracy</th>\n",
       "      <th>Brier score</th>\n",
       "      <th>AUC</th>\n",
       "    </tr>\n",
       "  </thead>\n",
       "  <tbody>\n",
       "    <tr>\n",
       "      <th>1</th>\n",
       "      <td>0.747664</td>\n",
       "      <td>0.504673</td>\n",
       "      <td>0.810350</td>\n",
       "    </tr>\n",
       "    <tr>\n",
       "      <th>3</th>\n",
       "      <td>0.663551</td>\n",
       "      <td>0.488058</td>\n",
       "      <td>0.815859</td>\n",
       "    </tr>\n",
       "    <tr>\n",
       "      <th>5</th>\n",
       "      <td>0.579439</td>\n",
       "      <td>0.471028</td>\n",
       "      <td>0.833843</td>\n",
       "    </tr>\n",
       "    <tr>\n",
       "      <th>7</th>\n",
       "      <td>0.598131</td>\n",
       "      <td>0.471867</td>\n",
       "      <td>0.833481</td>\n",
       "    </tr>\n",
       "    <tr>\n",
       "      <th>9</th>\n",
       "      <td>0.616822</td>\n",
       "      <td>0.482981</td>\n",
       "      <td>0.827727</td>\n",
       "    </tr>\n",
       "  </tbody>\n",
       "</table>\n",
       "</div>"
      ],
      "text/plain": [
       "   Accuracy  Brier score       AUC\n",
       "1  0.747664     0.504673  0.810350\n",
       "3  0.663551     0.488058  0.815859\n",
       "5  0.579439     0.471028  0.833843\n",
       "7  0.598131     0.471867  0.833481\n",
       "9  0.616822     0.482981  0.827727"
      ]
     },
     "metadata": {},
     "output_type": "display_data"
    }
   ],
   "source": [
    "# Test your code (leave this part unchanged, except for if auc is undefined)\n",
    "\n",
    "glass_train_df = pd.read_csv(\"glass_train.csv\")\n",
    "\n",
    "glass_test_df = pd.read_csv(\"glass_test.csv\")\n",
    "\n",
    "knn_model = kNN()\n",
    "\n",
    "t0 = time.perf_counter()\n",
    "knn_model.fit(glass_train_df)\n",
    "print(\"Training time: {0:.2f} s.\".format(time.perf_counter()-t0))\n",
    "\n",
    "test_labels = glass_test_df[\"CLASS\"]\n",
    "\n",
    "k_values = [1,3,5,7,9]\n",
    "results = np.empty((len(k_values),3))\n",
    "\n",
    "for i in range(len(k_values)):\n",
    "    t0 = time.perf_counter()\n",
    "    predictions = knn_model.predict(glass_test_df,k=k_values[i])\n",
    "    print(\"Testing time (k={0}): {1:.2f} s.\".format(k_values[i],time.perf_counter()-t0))\n",
    "    results[i] = [accuracy(predictions,test_labels),brier_score(predictions,test_labels),\n",
    "                  auc(predictions,test_labels)] # Assuming that you have defined auc - remove otherwise\n",
    "\n",
    "results = pd.DataFrame(results,index=k_values,columns=[\"Accuracy\",\"Brier score\",\"AUC\"])\n",
    "\n",
    "print()\n",
    "display(\"results\",results)"
   ]
  },
  {
   "cell_type": "code",
   "execution_count": 5,
   "metadata": {},
   "outputs": [
    {
     "name": "stdout",
     "output_type": "stream",
     "text": [
      "Accuracy on training set (k=1): 1.0000\n",
      "AUC on training set (k=1): 1.0000\n",
      "Brier score on training set (k=1): 0.0000\n"
     ]
    }
   ],
   "source": [
    "train_labels = glass_train_df[\"CLASS\"]\n",
    "predictions = knn_model.predict(glass_train_df,k=1)\n",
    "print(\"Accuracy on training set (k=1): {0:.4f}\".format(accuracy(predictions,train_labels)))\n",
    "print(\"AUC on training set (k=1): {0:.4f}\".format(auc(predictions,train_labels)))\n",
    "print(\"Brier score on training set (k=1): {0:.4f}\".format(brier_score(predictions,train_labels)))"
   ]
  },
  {
   "cell_type": "markdown",
   "metadata": {},
   "source": [
    "### Comment on assumptions, things that do not work properly, etc.\n"
   ]
  },
  {
   "cell_type": "markdown",
   "metadata": {},
   "source": [
    "## 2. Define the class NaiveBayes"
   ]
  },
  {
   "cell_type": "code",
   "execution_count": 6,
   "metadata": {},
   "outputs": [],
   "source": [
    "# Define the class NaiveBayes with three functions __init__, fit and predict (after the comments):\n",
    "#\n",
    "# Input to __init__: \n",
    "# self - the object itself\n",
    "#\n",
    "# Output from __init__:\n",
    "# <nothing>\n",
    "# \n",
    "# This function does not return anything but just initializes the following attributes of the object (self) to None:\n",
    "# column_filter, binning, labels, class_priors, feature_class_value_counts, feature_class_counts\n",
    "#\n",
    "# Input to fit:\n",
    "# self    - the object itself\n",
    "# df      - a dataframe (where the column names \"CLASS\" and \"ID\" have special meaning)\n",
    "# nobins  - no. of bins (default = 10)\n",
    "# bintype - either \"equal-width\" (default) or \"equal-size\" \n",
    "#\n",
    "# Output from fit:\n",
    "# <nothing>\n",
    "#\n",
    "# The result of applying this function should be:\n",
    "#\n",
    "# self.column_filter              - a column filter (see Assignment 1) from df\n",
    "# self.binning                    - a discretization mapping (see Assignment 1) from df\n",
    "# self.class_priors               - a mapping (dictionary) from the labels (categories) of the \"CLASS\" column of df,\n",
    "#                                   to the relative frequencies of the labels\n",
    "# self.labels                     - a list of the categories (class labels) of the \"CLASS\" column of df\n",
    "# self.feature_class_value_counts - a mapping from the feature (column name) to the number of\n",
    "#                                   training instances with a specific combination of (non-missing, categorical) \n",
    "#                                   value for the feature and class label\n",
    "# self.feature_class_counts       - a mapping from the feature (column name) to the number of\n",
    "#                                   training instances with a specific class label and some (non-missing, categorical) \n",
    "#                                   value for the feature\n",
    "#\n",
    "# Note that the function does not return anything but just assigns values to the attributes of the object.\n",
    "#\n",
    "# Input to predict:\n",
    "# self - the object itself\n",
    "# df   - a dataframe\n",
    "# \n",
    "# Output from predict:\n",
    "# predictions - a dataframe with class labels as column names and the rows corresponding to\n",
    "#               predictions with estimated class probabilities for each row in df, where the class probabilities\n",
    "#               are estimated by the naive approximation of Bayes rule (see lecture slides)\n",
    "#\n",
    "# Hint 1: First apply the column filter and discretization\n",
    "#\n",
    "# Hint 2: Iterating over either columns or rows, and for each possible class label, calculate the relative\n",
    "#         frequency of the observed feature value given the class (using feature_class_value_counts and \n",
    "#         feature_class_counts) \n",
    "#\n",
    "# Hint 3: Calculate the non-normalized estimated class probabilities by multiplying the class priors to the\n",
    "#         product of the relative frequencies\n",
    "#\n",
    "# Hint 4: Normalize the probabilities by dividing by the sum of the non-normalized probabilities; in case\n",
    "#         this sum is zero, then set the probabilities to the class priors\n",
    "\n"
   ]
  },
  {
   "cell_type": "code",
   "execution_count": 7,
   "metadata": {},
   "outputs": [
    {
     "name": "stdout",
     "output_type": "stream",
     "text": [
      "Training time (3, 'equal-width'): 0.10 s.\n",
      "Testing time (3, 'equal-width'): 0.09 s.\n",
      "Training time (3, 'equal-size'): 0.09 s.\n",
      "Testing time (3, 'equal-size'): 0.07 s.\n",
      "Training time (5, 'equal-width'): 0.10 s.\n",
      "Testing time (5, 'equal-width'): 0.08 s.\n",
      "Training time (5, 'equal-size'): 0.08 s.\n",
      "Testing time (5, 'equal-size'): 0.07 s.\n",
      "Training time (10, 'equal-width'): 0.09 s.\n",
      "Testing time (10, 'equal-width'): 0.07 s.\n",
      "Training time (10, 'equal-size'): 0.10 s.\n",
      "Testing time (10, 'equal-size'): 0.07 s.\n",
      "\n"
     ]
    },
    {
     "data": {
      "text/plain": [
       "'results'"
      ]
     },
     "metadata": {},
     "output_type": "display_data"
    },
    {
     "data": {
      "text/html": [
       "<div>\n",
       "<style scoped>\n",
       "    .dataframe tbody tr th:only-of-type {\n",
       "        vertical-align: middle;\n",
       "    }\n",
       "\n",
       "    .dataframe tbody tr th {\n",
       "        vertical-align: top;\n",
       "    }\n",
       "\n",
       "    .dataframe thead th {\n",
       "        text-align: right;\n",
       "    }\n",
       "</style>\n",
       "<table border=\"1\" class=\"dataframe\">\n",
       "  <thead>\n",
       "    <tr style=\"text-align: right;\">\n",
       "      <th></th>\n",
       "      <th></th>\n",
       "      <th>Accuracy</th>\n",
       "      <th>Brier score</th>\n",
       "      <th>AUC</th>\n",
       "    </tr>\n",
       "  </thead>\n",
       "  <tbody>\n",
       "    <tr>\n",
       "      <th rowspan=\"2\" valign=\"top\">3</th>\n",
       "      <th>equal-width</th>\n",
       "      <td>0.616822</td>\n",
       "      <td>0.622116</td>\n",
       "      <td>0.724335</td>\n",
       "    </tr>\n",
       "    <tr>\n",
       "      <th>equal-size</th>\n",
       "      <td>0.607477</td>\n",
       "      <td>0.554782</td>\n",
       "      <td>0.780163</td>\n",
       "    </tr>\n",
       "    <tr>\n",
       "      <th rowspan=\"2\" valign=\"top\">5</th>\n",
       "      <th>equal-width</th>\n",
       "      <td>0.644860</td>\n",
       "      <td>0.551101</td>\n",
       "      <td>0.771688</td>\n",
       "    </tr>\n",
       "    <tr>\n",
       "      <th>equal-size</th>\n",
       "      <td>0.598131</td>\n",
       "      <td>0.581556</td>\n",
       "      <td>0.796675</td>\n",
       "    </tr>\n",
       "    <tr>\n",
       "      <th rowspan=\"2\" valign=\"top\">10</th>\n",
       "      <th>equal-width</th>\n",
       "      <td>0.654206</td>\n",
       "      <td>0.527569</td>\n",
       "      <td>0.812887</td>\n",
       "    </tr>\n",
       "    <tr>\n",
       "      <th>equal-size</th>\n",
       "      <td>0.588785</td>\n",
       "      <td>0.741668</td>\n",
       "      <td>0.751165</td>\n",
       "    </tr>\n",
       "  </tbody>\n",
       "</table>\n",
       "</div>"
      ],
      "text/plain": [
       "                Accuracy  Brier score       AUC\n",
       "3  equal-width  0.616822     0.622116  0.724335\n",
       "   equal-size   0.607477     0.554782  0.780163\n",
       "5  equal-width  0.644860     0.551101  0.771688\n",
       "   equal-size   0.598131     0.581556  0.796675\n",
       "10 equal-width  0.654206     0.527569  0.812887\n",
       "   equal-size   0.588785     0.741668  0.751165"
      ]
     },
     "metadata": {},
     "output_type": "display_data"
    }
   ],
   "source": [
    "# Test your code (leave this part unchanged, except for if auc is undefined)\n",
    "\n",
    "glass_train_df = pd.read_csv(\"glass_train.csv\")\n",
    "\n",
    "glass_test_df = pd.read_csv(\"glass_test.csv\")\n",
    "\n",
    "nb_model = NaiveBayes()\n",
    "\n",
    "test_labels = glass_test_df[\"CLASS\"]\n",
    "\n",
    "nobins_values = [3,5,10]\n",
    "bintype_values = [\"equal-width\",\"equal-size\"]\n",
    "parameters = [(nobins,bintype) for nobins in nobins_values for bintype in bintype_values]\n",
    "\n",
    "results = np.empty((len(parameters),3))\n",
    "\n",
    "for i in range(len(parameters)):\n",
    "    t0 = time.perf_counter()\n",
    "    nb_model.fit(glass_train_df,nobins=parameters[i][0],bintype=parameters[i][1])\n",
    "    print(\"Training time {0}: {1:.2f} s.\".format(parameters[i],time.perf_counter()-t0))\n",
    "    t0 = time.perf_counter()\n",
    "    predictions = nb_model.predict(glass_test_df)\n",
    "    print(\"Testing time {0}: {1:.2f} s.\".format(parameters[i],time.perf_counter()-t0))\n",
    "    results[i] = [accuracy(predictions,test_labels),brier_score(predictions,test_labels),\n",
    "                  auc(predictions,test_labels)] # Assuming that you have defined auc - remove otherwise\n",
    "\n",
    "results = pd.DataFrame(results,index=pd.MultiIndex.from_product([nobins_values,bintype_values]),\n",
    "                       columns=[\"Accuracy\",\"Brier score\",\"AUC\"])\n",
    "\n",
    "print()\n",
    "display(\"results\",results)"
   ]
  },
  {
   "cell_type": "code",
   "execution_count": 8,
   "metadata": {},
   "outputs": [
    {
     "name": "stdout",
     "output_type": "stream",
     "text": [
      "Accuracy on training set: 0.8505\n",
      "AUC on training set: 0.9687\n",
      "Brier score on training set: 0.2263\n"
     ]
    }
   ],
   "source": [
    "train_labels = glass_train_df[\"CLASS\"]\n",
    "nb_model.fit(glass_train_df)\n",
    "predictions = nb_model.predict(glass_train_df)\n",
    "print(\"Accuracy on training set: {0:.4f}\".format(accuracy(predictions,train_labels)))\n",
    "print(\"AUC on training set: {0:.4f}\".format(auc(predictions,train_labels)))\n",
    "print(\"Brier score on training set: {0:.4f}\".format(brier_score(predictions,train_labels)))"
   ]
  },
  {
   "cell_type": "markdown",
   "metadata": {},
   "source": [
    "### Comment on assumptions, things that do not work properly, etc."
   ]
  }
 ],
 "metadata": {
  "kernelspec": {
   "display_name": "Python 3",
   "language": "python",
   "name": "python3"
  },
  "language_info": {
   "codemirror_mode": {
    "name": "ipython",
    "version": 3
   },
   "file_extension": ".py",
   "mimetype": "text/x-python",
   "name": "python",
   "nbconvert_exporter": "python",
   "pygments_lexer": "ipython3",
   "version": "3.7.8"
  }
 },
 "nbformat": 4,
 "nbformat_minor": 4
}
